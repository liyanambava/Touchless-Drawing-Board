{
 "cells": [
  {
   "cell_type": "code",
   "execution_count": 1,
   "metadata": {},
   "outputs": [],
   "source": [
    "import cv2\n",
    "import numpy as np\n",
    "import mediapipe as mp"
   ]
  },
  {
   "cell_type": "code",
   "execution_count": 4,
   "metadata": {},
   "outputs": [],
   "source": [
    "\n",
    "mp_hands = mp.solutions.hands\n",
    "mp_drawing = mp.solutions.drawing_utils\n",
    "hands = mp_hands.Hands(min_detection_confidence=0.7, min_tracking_confidence=0.7)"
   ]
  },
  {
   "cell_type": "code",
   "execution_count": 5,
   "metadata": {},
   "outputs": [],
   "source": [
    "canvas = None\n",
    "colors = [(255, 0, 0), (0, 255, 0), (0, 0, 255), (0, 0, 0)]  # Blue, Green, Red, Eraser\n",
    "color_index = 0\n",
    "brush_thickness = 5\n",
    "drawing_mode = True "
   ]
  },
  {
   "cell_type": "code",
   "execution_count": 7,
   "metadata": {},
   "outputs": [],
   "source": [
    "cap = cv2.VideoCapture(0)\n",
    "\n",
    "def is_pinching(hand_landmarks, frame_width, frame_height):\n",
    "    thumb_tip = hand_landmarks.landmark[mp_hands.HandLandmark.THUMB_TIP]\n",
    "    index_tip = hand_landmarks.landmark[mp_hands.HandLandmark.INDEX_FINGER_TIP]\n",
    "\n",
    "    thumb_x, thumb_y = int(thumb_tip.x * frame_width), int(thumb_tip.y * frame_height)\n",
    "    index_x, index_y = int(index_tip.x * frame_width), int(index_tip.y * frame_height)\n",
    "\n",
    "    distance = np.linalg.norm([thumb_x - index_x, thumb_y - index_y])\n",
    "    return distance < 40  \n",
    "\n",
    "while True:\n",
    "    ret, frame = cap.read()\n",
    "    if not ret:\n",
    "        break\n",
    "\n",
    "    frame = cv2.flip(frame, 1)\n",
    "    rgb_frame = cv2.cvtColor(frame, cv2.COLOR_BGR2RGB)\n",
    "    results = hands.process(rgb_frame)\n",
    "\n",
    "    if canvas is None:\n",
    "        canvas = np.zeros_like(frame)\n",
    "\n",
    "    if results.multi_hand_landmarks:\n",
    "        for hand_landmarks in results.multi_hand_landmarks:\n",
    "            mp_drawing.draw_landmarks(frame, hand_landmarks, mp_hands.HAND_CONNECTIONS)\n",
    "\n",
    "            h, w, _ = frame.shape\n",
    "            index_finger_tip = hand_landmarks.landmark[mp_hands.HandLandmark.INDEX_FINGER_TIP]\n",
    "            cx, cy = int(index_finger_tip.x * w), int(index_finger_tip.y * h)\n",
    "\n",
    "            if is_pinching(hand_landmarks, w, h):\n",
    "                drawing_mode = not drawing_mode\n",
    "\n",
    "            if drawing_mode:\n",
    "                if colors[color_index] == (0, 0, 0): \n",
    "                    cv2.circle(canvas, (cx, cy), brush_thickness, colors[color_index], -1)\n",
    "                else:\n",
    "                    cv2.circle(frame, (cx, cy), 10, colors[color_index], -1)\n",
    "                    cv2.circle(canvas, (cx, cy), brush_thickness, colors[color_index], -1)\n",
    "\n",
    "    combined = cv2.addWeighted(frame, 0.5, canvas, 0.5, 0)\n",
    "    instructions = [\n",
    "        \"Press 'c' to clear canvas\",\n",
    "        \"Press 's' to save canvas\",\n",
    "        \"Press 'up/down' to adjust brush size\",\n",
    "        \"Pinch gesture: Toggle drawing mode\",\n",
    "        \"Press '1-4': Change color (1: Blue, 2: Green, 3: Red, 4: Eraser)\"\n",
    "    ]\n",
    "\n",
    "    for i, line in enumerate(instructions):\n",
    "        cv2.putText(combined, line, (10, 20 + i * 20), cv2.FONT_HERSHEY_SIMPLEX, 0.5, (255, 255, 255), 1)\n",
    "\n",
    "    cv2.imshow(\"Drawing Board\", combined)\n",
    "\n",
    "    key = cv2.waitKey(1) & 0xFF\n",
    "    if key == ord('c'): \n",
    "        canvas = None\n",
    "    elif key == ord('s'):  \n",
    "        cv2.imwrite(\"drawing.png\", canvas)\n",
    "        print(\"Canvas saved as 'drawing.png'\")\n",
    "    elif key == 27: \n",
    "        break\n",
    "    elif key in [ord('1'), ord('2'), ord('3'), ord('4')]:\n",
    "        color_index = key - ord('1')\n",
    "    elif key == ord('u'):  \n",
    "        brush_thickness += 1\n",
    "    elif key == ord('d'): \n",
    "        brush_thickness = max(1, brush_thickness - 1)\n",
    "\n",
    "cap.release()\n",
    "cv2.destroyAllWindows()"
   ]
  },
  {
   "cell_type": "code",
   "execution_count": null,
   "metadata": {},
   "outputs": [],
   "source": []
  }
 ],
 "metadata": {
  "kernelspec": {
   "display_name": "Python 3",
   "language": "python",
   "name": "python3"
  },
  "language_info": {
   "codemirror_mode": {
    "name": "ipython",
    "version": 3
   },
   "file_extension": ".py",
   "mimetype": "text/x-python",
   "name": "python",
   "nbconvert_exporter": "python",
   "pygments_lexer": "ipython3",
   "version": "3.11.9"
  }
 },
 "nbformat": 4,
 "nbformat_minor": 2
}
